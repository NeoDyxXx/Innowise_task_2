{
 "cells": [
  {
   "cell_type": "markdown",
   "id": "d3df79dd",
   "metadata": {},
   "source": [
    "## Упражнения по библиотеке Numpy"
   ]
  },
  {
   "cell_type": "code",
   "execution_count": 2,
   "id": "76b9c43b",
   "metadata": {},
   "outputs": [],
   "source": [
    "import numpy as np"
   ]
  },
  {
   "cell_type": "markdown",
   "id": "03727b7c",
   "metadata": {},
   "source": [
    "**1.** Дан случайный массив, поменять знак у элементов, значения которых между 3 и 8"
   ]
  },
  {
   "cell_type": "code",
   "execution_count": 70,
   "id": "b89a7523",
   "metadata": {},
   "outputs": [
    {
     "data": {
      "text/plain": [
       "array([ 3, -5,  8, -7,  2,  1,  0,  3, -5,  1])"
      ]
     },
     "execution_count": 70,
     "metadata": {},
     "output_type": "execute_result"
    }
   ],
   "source": [
    "arr = np.random.randint(0, 10, 10)\n",
    "arr = np.where((arr > 3) & (arr < 8), -arr, arr)\n",
    "arr"
   ]
  },
  {
   "cell_type": "markdown",
   "id": "5fa4abda",
   "metadata": {},
   "source": [
    "**2.** Заменить максимальный элемент случайного массива на 0"
   ]
  },
  {
   "cell_type": "code",
   "execution_count": 73,
   "id": "f2788a6e",
   "metadata": {},
   "outputs": [
    {
     "data": {
      "text/plain": [
       "array([78,  3,  0,  7, 60,  5, 11, 71,  8, 82])"
      ]
     },
     "execution_count": 73,
     "metadata": {},
     "output_type": "execute_result"
    }
   ],
   "source": [
    "arr = np.random.randint(0, 100, 10)\n",
    "arr[np.where(arr == np.max(arr))] = 0\n",
    "arr"
   ]
  },
  {
   "cell_type": "markdown",
   "id": "3cac656b",
   "metadata": {},
   "source": [
    "**3.** Построить прямое произведение массивов (все комбинации с каждым элементом). На вход подается двумерный массив"
   ]
  },
  {
   "cell_type": "code",
   "execution_count": 231,
   "id": "3396b764",
   "metadata": {},
   "outputs": [
    {
     "data": {
      "text/plain": [
       "array([[1, 4, 6],\n",
       "       [1, 4, 7],\n",
       "       [1, 5, 6],\n",
       "       [1, 5, 7],\n",
       "       [2, 4, 6],\n",
       "       [2, 4, 7],\n",
       "       [2, 5, 6],\n",
       "       [2, 5, 7],\n",
       "       [3, 4, 6],\n",
       "       [3, 4, 7],\n",
       "       [3, 5, 6],\n",
       "       [3, 5, 7]])"
      ]
     },
     "execution_count": 231,
     "metadata": {},
     "output_type": "execute_result"
    }
   ],
   "source": [
    "arrays = [np.asarray(a) for a in ([1, 2, 3], [4, 5], [6, 7])]\n",
    "indexes = np.indices(map(len, arrays), dtype=int).reshape(len(arrays), -1).T\n",
    "\n",
    "for n, arr in enumerate(arrays):\n",
    "    indexes[:, n] = arrays[n][indexes[:, n]]\n",
    "\n",
    "indexes"
   ]
  },
  {
   "cell_type": "markdown",
   "id": "674c9354",
   "metadata": {},
   "source": [
    "**4.** Даны 2 массива A (8x3) и B (2x2). Найти строки в A, которые содержат элементы из каждой строки в B, независимо от порядка элементов в B"
   ]
  },
  {
   "cell_type": "code",
   "execution_count": 241,
   "id": "cb664782",
   "metadata": {},
   "outputs": [
    {
     "name": "stdout",
     "output_type": "stream",
     "text": [
      "[[1 3 0]\n",
      " [1 4 2]\n",
      " [4 2 1]\n",
      " [0 0 1]\n",
      " [3 1 3]\n",
      " [1 4 0]\n",
      " [2 1 3]\n",
      " [4 4 2]]\n",
      "\n",
      "[[3 2]\n",
      " [0 3]]\n",
      "[0 3 4 6]\n"
     ]
    }
   ],
   "source": [
    "A = np.random.randint(0, 5, (8, 3))\n",
    "B = np.random.randint(0, 5, (2, 2))\n",
    "\n",
    "print(A, B, sep='\\n\\n')\n",
    "\n",
    "C = (A[..., np.newaxis, np.newaxis] == B)\n",
    "rows = (C.sum(axis = (1, 2, 3)) >= B.shape[1]).nonzero()[0]\n",
    "print(rows)"
   ]
  },
  {
   "cell_type": "markdown",
   "id": "fa46533b",
   "metadata": {},
   "source": [
    "**5.** Дана 10x3 матрица, найти строки из неравных значений (например строка [2,2,3] остается, строка [3,3,3] удаляется)"
   ]
  },
  {
   "cell_type": "code",
   "execution_count": 151,
   "id": "fa545b23",
   "metadata": {},
   "outputs": [
    {
     "data": {
      "text/plain": [
       "array([[4, 0, 0],\n",
       "       [0, 0, 2],\n",
       "       [0, 2, 0],\n",
       "       [1, 0, 0],\n",
       "       [4, 3, 2],\n",
       "       [1, 3, 3],\n",
       "       [0, 0, 4],\n",
       "       [3, 4, 2],\n",
       "       [0, 4, 2],\n",
       "       [4, 3, 0]])"
      ]
     },
     "execution_count": 151,
     "metadata": {},
     "output_type": "execute_result"
    }
   ],
   "source": [
    "A = np.random.randint(0, 5, 30).reshape(10, 3)\n",
    "mask = np.logical_and.reduce(A[:,1:] == A[:,:-1], axis=1) & np.logical_and.reduce(A[:,1:] == A[:,[0, 2]], axis=1)\\\n",
    "    & np.logical_and.reduce(A[:,:-1] == A[:,[0, 2]], axis=1)\n",
    "A[~mask]"
   ]
  },
  {
   "cell_type": "markdown",
   "id": "28f0d116",
   "metadata": {},
   "source": [
    "**6.** Дан двумерный массив. Удалить те строки, которые повторяются"
   ]
  },
  {
   "cell_type": "code",
   "execution_count": 50,
   "id": "83d2c0b7",
   "metadata": {},
   "outputs": [
    {
     "data": {
      "text/plain": [
       "(array([[2, 0, 4],\n",
       "        [2, 4, 1],\n",
       "        [3, 4, 3]]),\n",
       " array([[2, 0, 4],\n",
       "        [3, 4, 3],\n",
       "        [2, 4, 1]]),\n",
       " array([[1, 1, 1],\n",
       "        [2, 2, 2]]),\n",
       " array([[1, 1, 1],\n",
       "        [2, 2, 2],\n",
       "        [1, 1, 1]]))"
      ]
     },
     "execution_count": 50,
     "metadata": {},
     "output_type": "execute_result"
    }
   ],
   "source": [
    "A = np.random.randint(0, 5, 9).reshape(3, 3)\n",
    "B = np.array([[1, 1, 1], [2, 2, 2], [1, 1, 1]])\n",
    "unique1 = np.unique(A, axis=0)\n",
    "unique2 = np.unique(B, axis=0)\n",
    "unique1, A, unique2, B"
   ]
  },
  {
   "cell_type": "markdown",
   "id": "6daa9e37",
   "metadata": {},
   "source": [
    "______\n",
    "______"
   ]
  },
  {
   "cell_type": "markdown",
   "id": "cfbfcaff",
   "metadata": {},
   "source": [
    "Для каждой из следующих задач (1-5) нужно привести 2 реализации – одна без использования numpy (cчитайте, что там, где на входе или выходе должны быть numpy array, будут просто списки), а вторая полностью векторизованная с использованием numpy (без использования питоновских циклов/map/list comprehension).\n",
    "\n",
    "\n",
    "__Замечание 1.__ Можно считать, что все указанные объекты непустые (к примеру, в __задаче 1__ на диагонали матрицы есть ненулевые элементы).\n",
    "\n",
    "__Замечание 2.__ Для большинства задач решение занимает не больше 1-2 строк."
   ]
  },
  {
   "cell_type": "markdown",
   "id": "673cac7f",
   "metadata": {},
   "source": [
    "___"
   ]
  },
  {
   "cell_type": "markdown",
   "id": "ca6f585e",
   "metadata": {},
   "source": [
    "* __Задача 1__: Подсчитать произведение ненулевых элементов на диагонали прямоугольной матрицы.  \n",
    " Например, для X = np.array([[1, 0, 1], [2, 0, 2], [3, 0, 3], [4, 4, 4]]) ответ 3."
   ]
  },
  {
   "cell_type": "code",
   "execution_count": 121,
   "id": "065862fc",
   "metadata": {},
   "outputs": [
    {
     "data": {
      "text/plain": [
       "(3, 3)"
      ]
     },
     "execution_count": 121,
     "metadata": {},
     "output_type": "execute_result"
    }
   ],
   "source": [
    "X = np.array([[1, 0, 1], [2, 0, 2], [3, 0, 3], [4, 4, 4]])\n",
    "\n",
    "if X.__len__() < X[0].__len__():\n",
    "    n = X.__len__()\n",
    "else:\n",
    "    n = X[0].__len__()\n",
    "\n",
    "prod = 1\n",
    "for i in range(n):\n",
    "    if X[i][i] != 0:\n",
    "        prod *= X[i][i]\n",
    "\n",
    "np.prod(np.diagonal(X)[~np.in1d(np.diagonal(X), 0)].reshape(1, 2)), prod"
   ]
  },
  {
   "cell_type": "markdown",
   "id": "9fc51d41",
   "metadata": {},
   "source": [
    "* __Задача 2__: Даны два вектора x и y. Проверить, задают ли они одно и то же мультимножество.  \n",
    "  Например, для x = np.array([1, 2, 2, 4]), y = np.array([4, 2, 1, 2]) ответ True."
   ]
  },
  {
   "cell_type": "code",
   "execution_count": 157,
   "id": "a809e02f",
   "metadata": {},
   "outputs": [],
   "source": [
    "# your code"
   ]
  },
  {
   "cell_type": "markdown",
   "id": "b9c185c7",
   "metadata": {},
   "source": [
    "* __Задача 3__: Найти максимальный элемент в векторе x среди элементов, перед которыми стоит ноль. \n",
    " Например, для x = np.array([6, 2, 0, 3, 0, 0, 5, 7, 0]) ответ 5."
   ]
  },
  {
   "cell_type": "code",
   "execution_count": 82,
   "id": "b57df008",
   "metadata": {},
   "outputs": [
    {
     "data": {
      "text/plain": [
       "(5, 5)"
      ]
     },
     "execution_count": 82,
     "metadata": {},
     "output_type": "execute_result"
    }
   ],
   "source": [
    "x = np.array([6, 2, 0, 3, 0, 0, 5, 7, 0])\n",
    "python_method = max([x[i] for i in range(x.__len__()) if i != 0 if x[i - 1] == 0])\n",
    "numpy_method = np.max(x[1:][(x == 0)[:-1]])\n",
    "python_method, numpy_method"
   ]
  },
  {
   "cell_type": "markdown",
   "id": "480be4ce",
   "metadata": {},
   "source": [
    "* __Задача 4__: Реализовать кодирование длин серий (Run-length encoding). Для некоторого вектора x необходимо вернуть кортеж из двух векторов одинаковой длины. Первый содержит числа, а второй - сколько раз их нужно повторить.  \n",
    " Например, для x = np.array([2, 2, 2, 3, 3, 3, 5]) ответ (np.array([2, 3, 5]), np.array([3, 3, 1])).\n"
   ]
  },
  {
   "cell_type": "code",
   "execution_count": 89,
   "id": "3c592124",
   "metadata": {},
   "outputs": [
    {
     "name": "stdout",
     "output_type": "stream",
     "text": [
      "[2, 3, 5] [2, 2, 0]\n"
     ]
    }
   ],
   "source": [
    "x = np.array([2, 2, 2, 3, 3, 3, 5])\n",
    "\n",
    "list_of_num = []\n",
    "list_of_repeat = []\n",
    "for i in range(x.__len__()):\n",
    "    k = 0\n",
    "    \n",
    "    if x[i] not in list_of_num:\n",
    "        list_of_num.append(x[i])\n",
    "    else:\n",
    "        continue\n",
    "    \n",
    "    if i == x.__len__() - 1:\n",
    "        list_of_repeat.append(k)\n",
    "        break\n",
    "    \n",
    "    for j in range(i + 1, x.__len__()):\n",
    "        if x[i] == x[j]:\n",
    "            k += 1\n",
    "        else:\n",
    "            list_of_repeat.append(k)\n",
    "            break\n",
    "            \n",
    "print(list_of_num, list_of_repeat)"
   ]
  },
  {
   "cell_type": "code",
   "execution_count": 116,
   "id": "d357076c",
   "metadata": {},
   "outputs": [
    {
     "data": {
      "text/plain": [
       "(array([2, 2, 0], dtype=int64), array([2, 3, 5]))"
      ]
     },
     "execution_count": 116,
     "metadata": {},
     "output_type": "execute_result"
    }
   ],
   "source": [
    "starts = np.r_[0, np.flatnonzero(~np.isclose(x[1:], x[:-1], equal_nan=True)) + 1]\n",
    "lengths = np.diff(np.r_[starts, x.__len__()]) - 1\n",
    "values = x[starts]\n",
    "    \n",
    "lengths, values"
   ]
  },
  {
   "cell_type": "markdown",
   "id": "077532ec",
   "metadata": {},
   "source": [
    "* __Задача 5__: Даны две выборки объектов - X и Y. Вычислить матрицу евклидовых расстояний между объектами. Сравните с функцией scipy.spatial.distance.cdist по скорости работы."
   ]
  },
  {
   "cell_type": "code",
   "execution_count": 174,
   "id": "4d7b8a08",
   "metadata": {},
   "outputs": [],
   "source": [
    "def diff(a, b):\n",
    "    result = []\n",
    "    for i in range(a.__len__()):\n",
    "        result.append(a[i] - b[i])\n",
    "    return result"
   ]
  },
  {
   "cell_type": "code",
   "execution_count": null,
   "id": "1e807797",
   "metadata": {},
   "outputs": [],
   "source": [
    "%%time\n",
    "from math import sqrt\n",
    "\n",
    "a = np.random.randint(10, size=(25000, 4))\n",
    "b = np.random.randint(10, size=(24000, 4))\n",
    "\n",
    "result_list = []\n",
    "for i in a:\n",
    "    row = []\n",
    "    for j in b:\n",
    "        row.append(np.sqrt(sum(pow(a - b, 2) for a, b in zip(i, j))))\n",
    "    result_list.append(row)\n",
    "\n",
    "result_list"
   ]
  },
  {
   "cell_type": "code",
   "execution_count": 187,
   "id": "3aa632ed",
   "metadata": {
    "scrolled": true
   },
   "outputs": [
    {
     "data": {
      "text/plain": [
       "array([9.        , 4.69041576, 5.56776436, 4.24264069])"
      ]
     },
     "execution_count": 187,
     "metadata": {},
     "output_type": "execute_result"
    }
   ],
   "source": [
    "np.sqrt(np.array(sum([pow(np.array(diff(x, y)), 2) for x, y in zip(a, b)])))"
   ]
  },
  {
   "cell_type": "code",
   "execution_count": 203,
   "id": "67f6d6c6",
   "metadata": {},
   "outputs": [
    {
     "name": "stdout",
     "output_type": "stream",
     "text": [
      "[[ 6.55743852  4.24264069  8.1240384  ...  9.2736185   8.1240384\n",
      "  10.04987562]\n",
      " [ 9.2736185   4.79583152  9.32737905 ...  9.8488578   8.77496439\n",
      "  12.24744871]\n",
      " [ 7.21110255  6.244998   12.28820573 ...  9.32737905  3.31662479\n",
      "   6.32455532]\n",
      " ...\n",
      " [ 6.78232998  3.          8.06225775 ...  6.244998    5.19615242\n",
      "   8.36660027]\n",
      " [ 4.58257569  5.47722558 10.67707825 ...  8.71779789  4.69041576\n",
      "   4.79583152]\n",
      " [ 7.28010989  8.94427191  2.82842712 ...  8.1240384  12.24744871\n",
      "  10.72380529]]\n",
      "CPU times: total: 8.69 s\n",
      "Wall time: 8.71 s\n"
     ]
    }
   ],
   "source": [
    "%%time\n",
    "\n",
    "a = np.random.randint(10, size=(22500, 4))\n",
    "b = np.random.randint(10, size=(22400, 4))\n",
    "\n",
    "P = np.add.outer(np.sum(a ** 2, axis=1), np.sum(b ** 2, axis=1))\n",
    "N = np.dot(a, b.T)\n",
    "print(np.sqrt(P - 2*N))"
   ]
  },
  {
   "cell_type": "code",
   "execution_count": 206,
   "id": "c17da94f",
   "metadata": {},
   "outputs": [
    {
     "name": "stdout",
     "output_type": "stream",
     "text": [
      "CPU times: total: 4.64 s\n",
      "Wall time: 4.64 s\n"
     ]
    },
    {
     "data": {
      "text/plain": [
       "array([[ 5.38516481,  3.60555128, 12.28820573, ..., 11.83215957,\n",
       "         7.74596669,  9.89949494],\n",
       "       [ 5.19615242,  5.56776436, 10.81665383, ..., 13.19090596,\n",
       "         5.09901951,  6.        ],\n",
       "       [ 7.68114575, 10.04987562,  7.54983444, ..., 11.04536102,\n",
       "         6.4807407 ,  2.44948974],\n",
       "       ...,\n",
       "       [ 7.07106781, 10.        , 12.40967365, ..., 15.06651917,\n",
       "         5.74456265,  8.06225775],\n",
       "       [ 7.93725393,  8.06225775,  8.30662386, ..., 10.09950494,\n",
       "         8.1240384 ,  5.47722558],\n",
       "       [ 7.34846923, 10.48808848, 12.08304597, ..., 15.06651917,\n",
       "         6.08276253,  7.41619849]])"
      ]
     },
     "execution_count": 206,
     "metadata": {},
     "output_type": "execute_result"
    }
   ],
   "source": [
    "%%time\n",
    "import scipy\n",
    "\n",
    "a = np.random.randint(10, size=(22500, 4))\n",
    "b = np.random.randint(10, size=(22400, 4))\n",
    "\n",
    "scipy.spatial.distance.cdist(a, b)"
   ]
  },
  {
   "cell_type": "markdown",
   "id": "973e8064",
   "metadata": {},
   "source": [
    "_______\n",
    "________"
   ]
  },
  {
   "cell_type": "markdown",
   "id": "1104acb7",
   "metadata": {},
   "source": [
    "* #### __Задача 6__: CrunchieMunchies __*__\n",
    "\n",
    "Вы работаете в отделе маркетинга пищевой компании MyCrunch, которая разрабатывает новый вид вкусных, полезных злаков под названием **CrunchieMunchies**.\n",
    "\n",
    "Вы хотите продемонстрировать потребителям, насколько полезны ваши хлопья по сравнению с другими ведущими брендами, поэтому вы собрали данные о питании нескольких разных конкурентов.\n",
    "\n",
    "Ваша задача - использовать вычисления Numpy для анализа этих данных и доказать, что ваши **СrunchieMunchies** - самый здоровый выбор для потребителей.\n"
   ]
  },
  {
   "cell_type": "code",
   "execution_count": 350,
   "id": "10a77f8d",
   "metadata": {},
   "outputs": [],
   "source": [
    "import numpy as np"
   ]
  },
  {
   "cell_type": "markdown",
   "id": "ab87cb03",
   "metadata": {},
   "source": [
    "1. Просмотрите файл cereal.csv. Этот файл содержит количества калорий для различных марок хлопьев. Загрузите данные из файла и сохраните их как calorie_stats."
   ]
  },
  {
   "cell_type": "code",
   "execution_count": 351,
   "id": "9681ebf2",
   "metadata": {},
   "outputs": [
    {
     "data": {
      "text/plain": [
       "array([ 70., 120.,  70.,  50., 110., 110., 110., 130.,  90.,  90., 120.,\n",
       "       110., 120., 110., 110., 110., 100., 110., 110., 110., 100., 110.,\n",
       "       100., 100., 110., 110., 100., 120., 120., 110., 100., 110., 100.,\n",
       "       110., 120., 120., 110., 110., 110., 140., 110., 100., 110., 100.,\n",
       "       150., 150., 160., 100., 120., 140.,  90., 130., 120., 100.,  50.,\n",
       "        50., 100., 100., 120., 100.,  90., 110., 110.,  80.,  90.,  90.,\n",
       "       110., 110.,  90., 110., 140., 100., 110., 110., 100., 100., 110.])"
      ]
     },
     "execution_count": 351,
     "metadata": {},
     "output_type": "execute_result"
    }
   ],
   "source": [
    "calorie_stats = np.loadtxt(\"./data/cereal.csv\", delimiter=\",\")\n",
    "calorie_stats"
   ]
  },
  {
   "cell_type": "markdown",
   "id": "139cfbd8",
   "metadata": {},
   "source": [
    "2. В одной порции CrunchieMunchies содержится 60 калорий. Насколько выше среднее количество калорий у ваших конкурентов?\n",
    "\n",
    "Сохраните ответ в переменной average_calories и распечатайте переменную в терминале"
   ]
  },
  {
   "cell_type": "code",
   "execution_count": 354,
   "id": "7036d240",
   "metadata": {},
   "outputs": [
    {
     "data": {
      "text/plain": [
       "(106.88311688311688, 46.883116883116884)"
      ]
     },
     "execution_count": 354,
     "metadata": {},
     "output_type": "execute_result"
    }
   ],
   "source": [
    "average_calories = calorie_stats.mean()\n",
    "average_calories, average_calories - 60"
   ]
  },
  {
   "cell_type": "markdown",
   "id": "b2ddb4cd",
   "metadata": {},
   "source": [
    "3. Корректно ли среднее количество калорий отражает распределение набора данных? Давайте отсортируем данные и посмотрим.\n",
    "\n",
    "Отсортируйте данные и сохраните результат в переменной calorie_stats_sorted. Распечатайте отсортированную информацию"
   ]
  },
  {
   "cell_type": "code",
   "execution_count": 357,
   "id": "46eeb4ed",
   "metadata": {},
   "outputs": [
    {
     "data": {
      "text/plain": [
       "array([ 50.,  50.,  50.,  70.,  70.,  80.,  90.,  90.,  90.,  90.,  90.,\n",
       "        90.,  90., 100., 100., 100., 100., 100., 100., 100., 100., 100.,\n",
       "       100., 100., 100., 100., 100., 100., 100., 100., 110., 110., 110.,\n",
       "       110., 110., 110., 110., 110., 110., 110., 110., 110., 110., 110.,\n",
       "       110., 110., 110., 110., 110., 110., 110., 110., 110., 110., 110.,\n",
       "       110., 110., 110., 110., 120., 120., 120., 120., 120., 120., 120.,\n",
       "       120., 120., 120., 130., 130., 140., 140., 140., 150., 150., 160.])"
      ]
     },
     "execution_count": 357,
     "metadata": {},
     "output_type": "execute_result"
    }
   ],
   "source": [
    "calorie_stats_sorted = np.sort(calorie_stats)\n",
    "calorie_stats_sorted"
   ]
  },
  {
   "cell_type": "markdown",
   "id": "4dc74116",
   "metadata": {},
   "source": [
    "4. Похоже, что большинство значений выше среднего. Давайте посмотрим, является ли медиана наиболее корректным показателем набора данных.\n",
    "\n",
    "Вычислите медиану набора данных и сохраните свой ответ в median_calories. Выведите медиану, чтобы вы могли видеть, как она сравнивается со средним значением."
   ]
  },
  {
   "cell_type": "code",
   "execution_count": 359,
   "id": "b56627c3",
   "metadata": {},
   "outputs": [
    {
     "data": {
      "text/plain": [
       "110.0"
      ]
     },
     "execution_count": 359,
     "metadata": {},
     "output_type": "execute_result"
    }
   ],
   "source": [
    "median_calories = np.median(calorie_stats_sorted)\n",
    "median_calories"
   ]
  },
  {
   "cell_type": "markdown",
   "id": "a63ab72f",
   "metadata": {},
   "source": [
    "5. В то время как медиана показывает, что по крайней мере половина наших значений составляет более 100 калорий, было бы более впечатляюще показать, что значительная часть конкурентов имеет более высокое количество калорий, чем CrunchieMunchies.\n",
    "\n",
    "Рассчитайте различные процентили и распечатайте их, пока не найдете наименьший процентиль, превышающий 60 калорий. Сохраните это значение в переменной nth_percentile."
   ]
  },
  {
   "cell_type": "code",
   "execution_count": 368,
   "id": "fe80ce03",
   "metadata": {},
   "outputs": [
    {
     "data": {
      "text/plain": [
       "(124.00000000000006, 110.0, 110.0, 100.0, 90.0, 63.2)"
      ]
     },
     "execution_count": 368,
     "metadata": {},
     "output_type": "execute_result"
    }
   ],
   "source": [
    "np.percentile(calorie_stats_sorted, 90),\\\n",
    "np.percentile(calorie_stats_sorted, 60),\\\n",
    "np.percentile(calorie_stats_sorted, 40),\\\n",
    "np.percentile(calorie_stats_sorted, 20),\\\n",
    "np.percentile(calorie_stats_sorted, 10),\\\n",
    "np.percentile(calorie_stats_sorted, 3.5)"
   ]
  },
  {
   "cell_type": "markdown",
   "id": "a2a3c5aa",
   "metadata": {},
   "source": [
    "6. Хотя процентиль показывает нам, что у большинства конкурентов количество калорий намного выше, это неудобная концепция для использования в маркетинговых материалах.\n",
    "\n",
    "Вместо этого давайте подсчитаем процент хлопьев, в которых содержится более 60 калорий на порцию. Сохраните свой ответ в переменной more_calories и распечатайте его"
   ]
  },
  {
   "cell_type": "code",
   "execution_count": 372,
   "id": "ade0f6ea",
   "metadata": {},
   "outputs": [
    {
     "data": {
      "text/plain": [
       "0.961038961038961"
      ]
     },
     "execution_count": 372,
     "metadata": {},
     "output_type": "execute_result"
    }
   ],
   "source": [
    "more_calories = calorie_stats_sorted[calorie_stats_sorted > 60].__len__() / calorie_stats_sorted.__len__()\n",
    "more_calories"
   ]
  },
  {
   "cell_type": "markdown",
   "id": "1735d65b",
   "metadata": {},
   "source": [
    "7. Это действительно высокий процент. Это будет очень полезно, когда мы будем продвигать CrunchieMunchies. Но один вопрос заключается в том, насколько велики различия в наборе данных? Можем ли мы сделать обобщение, что в большинстве злаков содержится около 100 калорий или разброс еще больше?\n",
    "\n",
    "Рассчитайте величину отклонения, найдя стандартное отклонение, Сохраните свой ответ в calorie_std и распечатайте на терминале. Как мы можем включить эту ценность в наш анализ?\n",
    "\n",
    "Данные которые мы рассматриваем могут быть очень разбросаны и теряется вес среднего значения. Как видим разброс всего 19.36, так что можем утверждать что данные кучно расспределенны."
   ]
  },
  {
   "cell_type": "code",
   "execution_count": 374,
   "id": "85c8df1f",
   "metadata": {},
   "outputs": [
    {
     "data": {
      "text/plain": [
       "19.35718533390827"
      ]
     },
     "execution_count": 374,
     "metadata": {},
     "output_type": "execute_result"
    }
   ],
   "source": [
    "calorie_std = np.std(calorie_stats_sorted)\n",
    "calorie_std"
   ]
  },
  {
   "cell_type": "markdown",
   "id": "037455c5",
   "metadata": {},
   "source": [
    "8. Напишите короткий абзац, в котором кратко изложите свои выводы и то, как, по вашему мнению, эти данные могут быть использованы в интересах Mycrunch при маркетинге CrunchieMunchies."
   ]
  },
  {
   "cell_type": "markdown",
   "id": "2a864cf6",
   "metadata": {},
   "source": [
    "На коробке написать надпись \"Наши хлопью менее калорийные чем у 96% конкурентов\" или что-то похожее "
   ]
  }
 ],
 "metadata": {
  "kernelspec": {
   "display_name": "Python 3 (ipykernel)",
   "language": "python",
   "name": "python3"
  },
  "language_info": {
   "codemirror_mode": {
    "name": "ipython",
    "version": 3
   },
   "file_extension": ".py",
   "mimetype": "text/x-python",
   "name": "python",
   "nbconvert_exporter": "python",
   "pygments_lexer": "ipython3",
   "version": "3.9.12"
  }
 },
 "nbformat": 4,
 "nbformat_minor": 5
}
